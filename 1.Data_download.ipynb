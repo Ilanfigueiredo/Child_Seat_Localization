{
 "cells": [
  {
   "cell_type": "markdown",
   "metadata": {},
   "source": [
    "# AI Tech Challange - Child Seat Location\n",
    "\n",
    "**This is a script to download data.**\n",
    "* Data set used: [SVIRO](https://sviro.kl.dfki.de/) e [TICaM](https://vizta-tof.kl.dfki.de/cabin-dataset/)\n",
    "* Made by: Dr. Ilan Sousa Figueiredo"
   ]
  },
  {
   "cell_type": "markdown",
   "metadata": {},
   "source": [
    "## Importing Python Libraries"
   ]
  },
  {
   "cell_type": "code",
   "execution_count": 2,
   "metadata": {},
   "outputs": [],
   "source": [
    "import os\n",
    "import wget\n",
    "import glob\n",
    "import zipfile"
   ]
  },
  {
   "cell_type": "markdown",
   "metadata": {},
   "source": [
    "### Download Data set: \n",
    "* SVIRO\n",
    "  * Grayscale images\n",
    "  * Bouding boxes labels\n",
    "* TICaM\n",
    "  * Synthetic images\n",
    "  * Bouding boxes labels"
   ]
  },
  {
   "cell_type": "code",
   "execution_count": 3,
   "metadata": {},
   "outputs": [],
   "source": [
    "sviro_images = ['https://sviro.kl.dfki.de/download/i3/?wpdmdl=378&refresh=64f6584fd1a961693866063',\n",
    "                'https://sviro.kl.dfki.de/download/bmw-i3-5/?wpdmdl=456&refresh=64f65855b91601693866069',\n",
    "                'https://sviro.kl.dfki.de/download/bmw-x5-6/?wpdmdl=457&refresh=64f65855c9a4e1693866069',\n",
    "                'https://sviro.kl.dfki.de/download/bmw-x5/?wpdmdl=387&refresh=64f6585044c651693866064',\n",
    "                'https://sviro.kl.dfki.de/download/bmw-x5-random-2/?wpdmdl=438&refresh=64f65850579c61693866064',\n",
    "                'https://sviro.kl.dfki.de/download/bmw-x5-random-7/?wpdmdl=458&refresh=64f65855da5921693866069',\n",
    "                'https://sviro.kl.dfki.de/download/escape/?wpdmdl=376&refresh=64f658506db681693866064',\n",
    "                'https://sviro.kl.dfki.de/download/ford-escape-5/?wpdmdl=459&refresh=64f65855eb23c1693866069',\n",
    "                'https://sviro.kl.dfki.de/download/hyundai-tucson/?wpdmdl=380&refresh=64f6585082eec1693866064',\n",
    "                'https://sviro.kl.dfki.de/download/hyundai-tucson-6/?wpdmdl=460&refresh=64f65856083f51693866070',\n",
    "                'https://sviro.kl.dfki.de/download/lexus/?wpdmdl=379&refresh=64f6585095d2b1693866064',\n",
    "                'https://sviro.kl.dfki.de/download/lexus-gs-f-5/?wpdmdl=461&refresh=64f658561985d1693866070',\n",
    "                'https://sviro.kl.dfki.de/download/mercedes-class-a-5/?wpdmdl=462&refresh=64f658562a2521693866070',\n",
    "                'https://sviro.kl.dfki.de/download/grayscale-tesla/?wpdmdl=368&refresh=64f65850a86fe1693866064',\n",
    "                'https://sviro.kl.dfki.de/download/renault-zoe/?wpdmdl=382&refresh=64f65850be0681693866064',\n",
    "                'https://sviro.kl.dfki.de/download/renault-zoe-6/?wpdmdl=463&refresh=64f658563ad241693866070',\n",
    "                'https://sviro.kl.dfki.de/download/tesla-model-3/?wpdmdl=383&refresh=64f65850d05411693866064',\n",
    "                'https://sviro.kl.dfki.de/download/tesla-model-3-6/?wpdmdl=464&refresh=64f658564b5f11693866070',\n",
    "                'https://sviro.kl.dfki.de/download/hilux/?wpdmdl=377&refresh=64f65850e1faa1693866064',\n",
    "                'https://sviro.kl.dfki.de/download/toyota-hilux-5/?wpdmdl=465&refresh=64f658565be401693866070',\n",
    "                'https://sviro.kl.dfki.de/download/vw-tiguan/?wpdmdl=384&refresh=64f65850f34cb1693866064',\n",
    "               'https://sviro.kl.dfki.de/download/vw-tiguan-6/?wpdmdl=466&refresh=64f658566c9611693866070']\n",
    "                \n",
    "ticam_images = ['https://vizta-tof.kl.dfki.de/download/synthetic_images/?wpdmdl=2540&refresh=64f10cc2239891693519042',\n",
    "              'https://vizta-tof.kl.dfki.de/download/synthetic_labels/?wpdmdl=2543&refresh=64f10cc22751d1693519042']"
   ]
  },
  {
   "cell_type": "code",
   "execution_count": 4,
   "metadata": {},
   "outputs": [],
   "source": [
    "dataset = sviro_images + ticam_images"
   ]
  },
  {
   "cell_type": "code",
   "execution_count": 6,
   "metadata": {},
   "outputs": [
    {
     "data": {
      "text/plain": [
       "['https://sviro.kl.dfki.de/download/i3/?wpdmdl=378&refresh=64f6584fd1a961693866063',\n",
       " 'https://sviro.kl.dfki.de/download/bmw-i3-5/?wpdmdl=456&refresh=64f65855b91601693866069',\n",
       " 'https://sviro.kl.dfki.de/download/bmw-x5-6/?wpdmdl=457&refresh=64f65855c9a4e1693866069',\n",
       " 'https://sviro.kl.dfki.de/download/bmw-x5/?wpdmdl=387&refresh=64f6585044c651693866064',\n",
       " 'https://sviro.kl.dfki.de/download/bmw-x5-random-2/?wpdmdl=438&refresh=64f65850579c61693866064',\n",
       " 'https://sviro.kl.dfki.de/download/bmw-x5-random-7/?wpdmdl=458&refresh=64f65855da5921693866069',\n",
       " 'https://sviro.kl.dfki.de/download/escape/?wpdmdl=376&refresh=64f658506db681693866064',\n",
       " 'https://sviro.kl.dfki.de/download/ford-escape-5/?wpdmdl=459&refresh=64f65855eb23c1693866069',\n",
       " 'https://sviro.kl.dfki.de/download/hyundai-tucson/?wpdmdl=380&refresh=64f6585082eec1693866064',\n",
       " 'https://sviro.kl.dfki.de/download/hyundai-tucson-6/?wpdmdl=460&refresh=64f65856083f51693866070',\n",
       " 'https://sviro.kl.dfki.de/download/lexus/?wpdmdl=379&refresh=64f6585095d2b1693866064',\n",
       " 'https://sviro.kl.dfki.de/download/lexus-gs-f-5/?wpdmdl=461&refresh=64f658561985d1693866070',\n",
       " 'https://sviro.kl.dfki.de/download/mercedes-class-a-5/?wpdmdl=462&refresh=64f658562a2521693866070',\n",
       " 'https://sviro.kl.dfki.de/download/grayscale-tesla/?wpdmdl=368&refresh=64f65850a86fe1693866064',\n",
       " 'https://sviro.kl.dfki.de/download/renault-zoe/?wpdmdl=382&refresh=64f65850be0681693866064',\n",
       " 'https://sviro.kl.dfki.de/download/renault-zoe-6/?wpdmdl=463&refresh=64f658563ad241693866070',\n",
       " 'https://sviro.kl.dfki.de/download/tesla-model-3/?wpdmdl=383&refresh=64f65850d05411693866064',\n",
       " 'https://sviro.kl.dfki.de/download/tesla-model-3-6/?wpdmdl=464&refresh=64f658564b5f11693866070',\n",
       " 'https://sviro.kl.dfki.de/download/hilux/?wpdmdl=377&refresh=64f65850e1faa1693866064',\n",
       " 'https://sviro.kl.dfki.de/download/toyota-hilux-5/?wpdmdl=465&refresh=64f658565be401693866070',\n",
       " 'https://sviro.kl.dfki.de/download/vw-tiguan/?wpdmdl=384&refresh=64f65850f34cb1693866064',\n",
       " 'https://sviro.kl.dfki.de/download/vw-tiguan-6/?wpdmdl=466&refresh=64f658566c9611693866070',\n",
       " 'https://vizta-tof.kl.dfki.de/download/synthetic_images/?wpdmdl=2540&refresh=64f10cc2239891693519042',\n",
       " 'https://vizta-tof.kl.dfki.de/download/synthetic_labels/?wpdmdl=2543&refresh=64f10cc22751d1693519042']"
      ]
     },
     "execution_count": 6,
     "metadata": {},
     "output_type": "execute_result"
    }
   ],
   "source": [
    "dataset"
   ]
  },
  {
   "cell_type": "code",
   "execution_count": 13,
   "metadata": {},
   "outputs": [],
   "source": [
    "zip_directory = './zip_data'\n",
    "os.makedirs(zip_directory, exist_ok=True)"
   ]
  },
  {
   "cell_type": "code",
   "execution_count": 14,
   "metadata": {},
   "outputs": [],
   "source": [
    "for image in dataset:\n",
    "    filename = wget.download(image, out=zip_directory)"
   ]
  },
  {
   "cell_type": "markdown",
   "metadata": {},
   "source": [
    "### Unzip:"
   ]
  },
  {
   "cell_type": "code",
   "execution_count": null,
   "metadata": {},
   "outputs": [],
   "source": [
    "unzip_directory = ('./unzip_data')\n",
    "zip_files = glob.glob(os.path.join(zip_directory,'*.zip'))"
   ]
  },
  {
   "cell_type": "code",
   "execution_count": null,
   "metadata": {},
   "outputs": [],
   "source": [
    "for res in zip_files:\n",
    "    print(res)\n",
    "    with zipfile.ZipFile(res, 'r') as zip:\n",
    "        zip.extractall(unzip_directory)"
   ]
  },
  {
   "cell_type": "markdown",
   "metadata": {},
   "source": [
    "### The end of Data download script\n",
    "\n",
    "By: Dr. Ilan Sousa Figueirêdo"
   ]
  },
  {
   "cell_type": "code",
   "execution_count": null,
   "metadata": {},
   "outputs": [],
   "source": []
  }
 ],
 "metadata": {
  "kernelspec": {
   "display_name": "Python 3 (ipykernel)",
   "language": "python",
   "name": "python3"
  },
  "language_info": {
   "codemirror_mode": {
    "name": "ipython",
    "version": 3
   },
   "file_extension": ".py",
   "mimetype": "text/x-python",
   "name": "python",
   "nbconvert_exporter": "python",
   "pygments_lexer": "ipython3",
   "version": "3.11.4"
  }
 },
 "nbformat": 4,
 "nbformat_minor": 4
}
